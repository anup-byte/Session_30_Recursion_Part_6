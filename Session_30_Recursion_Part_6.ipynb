{
 "cells": [
  {
   "cell_type": "code",
   "execution_count": null,
   "id": "f00858a4",
   "metadata": {},
   "outputs": [],
   "source": [
    "# find the index of last occurance of x in a given"
   ]
  },
  {
   "cell_type": "code",
   "execution_count": 12,
   "id": "353cf24b",
   "metadata": {},
   "outputs": [],
   "source": [
    "def lastIndexB(a, x, si):\n",
    "    l = len(a)\n",
    "    if si == l:\n",
    "        return -1\n",
    "    \n",
    "    smallerListOutput = lastIndexB(a, x, si + 1)\n",
    "    if smallerListOutput != -1:\n",
    "        return smallerListOutput\n",
    "    \n",
    "    else:\n",
    "        if a[si] == x:\n",
    "            return si\n",
    "        else:\n",
    "            return -1\n",
    "    "
   ]
  },
  {
   "cell_type": "code",
   "execution_count": 13,
   "id": "91f91991",
   "metadata": {},
   "outputs": [
    {
     "name": "stdout",
     "output_type": "stream",
     "text": [
      "3\n"
     ]
    }
   ],
   "source": [
    "a = [1,4,5,4,8]\n",
    "x = 4\n",
    "print(lastIndexB(a, x, 0))"
   ]
  }
 ],
 "metadata": {
  "kernelspec": {
   "display_name": "Python 3 (ipykernel)",
   "language": "python",
   "name": "python3"
  },
  "language_info": {
   "codemirror_mode": {
    "name": "ipython",
    "version": 3
   },
   "file_extension": ".py",
   "mimetype": "text/x-python",
   "name": "python",
   "nbconvert_exporter": "python",
   "pygments_lexer": "ipython3",
   "version": "3.11.4"
  }
 },
 "nbformat": 4,
 "nbformat_minor": 5
}
